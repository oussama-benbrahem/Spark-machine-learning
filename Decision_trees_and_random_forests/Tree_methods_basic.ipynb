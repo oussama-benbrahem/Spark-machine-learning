{
 "cells": [
  {
   "cell_type": "markdown",
   "metadata": {},
   "source": [
    "# Tree methods basic"
   ]
  },
  {
   "cell_type": "code",
   "execution_count": 2,
   "metadata": {},
   "outputs": [],
   "source": [
    "import findspark"
   ]
  },
  {
   "cell_type": "code",
   "execution_count": 5,
   "metadata": {},
   "outputs": [],
   "source": [
    "findspark.init('/home/oussama/spark-2.4.0-bin-hadoop2.7')"
   ]
  },
  {
   "cell_type": "code",
   "execution_count": 8,
   "metadata": {},
   "outputs": [],
   "source": [
    "from pyspark.sql import SparkSession\n",
    "spark = SparkSession.builder.appName('mytree').getOrCreate()"
   ]
  },
  {
   "cell_type": "code",
   "execution_count": 9,
   "metadata": {},
   "outputs": [],
   "source": [
    "from pyspark.ml import Pipeline"
   ]
  },
  {
   "cell_type": "code",
   "execution_count": 10,
   "metadata": {},
   "outputs": [],
   "source": [
    "from pyspark.ml.classification import (RandomForestClassifier,\n",
    "                                       GBTClassifier,DecisionTreeClassifier)"
   ]
  },
  {
   "cell_type": "code",
   "execution_count": 12,
   "metadata": {},
   "outputs": [],
   "source": [
    "data = spark.read.format('libsvm').load('sample_libsvm_data.txt')"
   ]
  },
  {
   "cell_type": "code",
   "execution_count": 13,
   "metadata": {},
   "outputs": [
    {
     "name": "stdout",
     "output_type": "stream",
     "text": [
      "+-----+--------------------+\n",
      "|label|            features|\n",
      "+-----+--------------------+\n",
      "|  0.0|(692,[127,128,129...|\n",
      "|  1.0|(692,[158,159,160...|\n",
      "|  1.0|(692,[124,125,126...|\n",
      "|  1.0|(692,[152,153,154...|\n",
      "|  1.0|(692,[151,152,153...|\n",
      "|  0.0|(692,[129,130,131...|\n",
      "|  1.0|(692,[158,159,160...|\n",
      "|  1.0|(692,[99,100,101,...|\n",
      "|  0.0|(692,[154,155,156...|\n",
      "|  0.0|(692,[127,128,129...|\n",
      "|  1.0|(692,[154,155,156...|\n",
      "|  0.0|(692,[153,154,155...|\n",
      "|  0.0|(692,[151,152,153...|\n",
      "|  1.0|(692,[129,130,131...|\n",
      "|  0.0|(692,[154,155,156...|\n",
      "|  1.0|(692,[150,151,152...|\n",
      "|  0.0|(692,[124,125,126...|\n",
      "|  0.0|(692,[152,153,154...|\n",
      "|  1.0|(692,[97,98,99,12...|\n",
      "|  1.0|(692,[124,125,126...|\n",
      "+-----+--------------------+\n",
      "only showing top 20 rows\n",
      "\n"
     ]
    }
   ],
   "source": [
    "data.show()"
   ]
  },
  {
   "cell_type": "code",
   "execution_count": 14,
   "metadata": {},
   "outputs": [],
   "source": [
    "train_data, test_data = data.randomSplit([0.7,0.3])"
   ]
  },
  {
   "cell_type": "code",
   "execution_count": 15,
   "metadata": {},
   "outputs": [],
   "source": [
    "dtc = DecisionTreeClassifier()\n",
    "rfc = RandomForestClassifier(numTrees=100)\n",
    "gbt = GBTClassifier()"
   ]
  },
  {
   "cell_type": "code",
   "execution_count": 17,
   "metadata": {},
   "outputs": [],
   "source": [
    "dtc_model = dtc.fit(train_data)\n",
    "rfc_model = rfc.fit(train_data)\n",
    "gbt_model = gbt.fit(train_data)"
   ]
  },
  {
   "cell_type": "code",
   "execution_count": 22,
   "metadata": {},
   "outputs": [],
   "source": [
    "dtc_preds = dtc_model.transform(test_data)\n",
    "rfc_preds = rfc_model.transform(test_data)\n",
    "gbt_preds = gbt_model.transform(test_data)"
   ]
  },
  {
   "cell_type": "code",
   "execution_count": 19,
   "metadata": {},
   "outputs": [],
   "source": [
    "from pyspark.ml.evaluation import MulticlassClassificationEvaluator"
   ]
  },
  {
   "cell_type": "code",
   "execution_count": 21,
   "metadata": {},
   "outputs": [],
   "source": [
    "acc_eval = MulticlassClassificationEvaluator(metricName='accuracy')"
   ]
  },
  {
   "cell_type": "code",
   "execution_count": 24,
   "metadata": {},
   "outputs": [
    {
     "name": "stdout",
     "output_type": "stream",
     "text": [
      "DTC ACCURACY\n"
     ]
    },
    {
     "data": {
      "text/plain": [
       "1.0"
      ]
     },
     "execution_count": 24,
     "metadata": {},
     "output_type": "execute_result"
    }
   ],
   "source": [
    "print('DTC ACCURACY')\n",
    "acc_eval.evaluate(dtc_preds)\n"
   ]
  },
  {
   "cell_type": "code",
   "execution_count": 25,
   "metadata": {},
   "outputs": [
    {
     "data": {
      "text/plain": [
       "SparseVector(692, {98: 0.0006, 119: 0.001, 147: 0.001, 148: 0.0012, 149: 0.0005, 155: 0.0019, 156: 0.0003, 157: 0.0003, 186: 0.0006, 203: 0.0013, 207: 0.0008, 212: 0.0014, 214: 0.0017, 217: 0.0019, 234: 0.0017, 235: 0.0004, 237: 0.0073, 243: 0.0084, 244: 0.0227, 260: 0.0026, 262: 0.0057, 263: 0.0063, 264: 0.0005, 266: 0.0002, 271: 0.009, 272: 0.0112, 273: 0.0017, 288: 0.003, 290: 0.0077, 291: 0.0042, 293: 0.0008, 298: 0.001, 300: 0.0173, 301: 0.0093, 302: 0.0063, 314: 0.0006, 317: 0.0158, 322: 0.0055, 325: 0.0004, 326: 0.0004, 329: 0.0023, 330: 0.0109, 343: 0.0006, 344: 0.0006, 346: 0.0028, 347: 0.0004, 349: 0.0005, 350: 0.0115, 351: 0.0011, 352: 0.0004, 355: 0.0021, 356: 0.0041, 357: 0.0145, 358: 0.0065, 359: 0.0092, 372: 0.0025, 375: 0.001, 377: 0.0067, 378: 0.0131, 379: 0.0033, 383: 0.0005, 384: 0.0053, 385: 0.0086, 387: 0.0014, 388: 0.0006, 398: 0.0005, 400: 0.0094, 401: 0.0006, 405: 0.009, 406: 0.0618, 407: 0.038, 408: 0.0019, 411: 0.0041, 413: 0.0132, 414: 0.0063, 415: 0.0026, 426: 0.0061, 427: 0.0089, 428: 0.0075, 429: 0.0068, 430: 0.0005, 431: 0.0026, 432: 0.0003, 433: 0.0224, 434: 0.0213, 435: 0.0098, 436: 0.002, 440: 0.0224, 442: 0.0047, 455: 0.008, 457: 0.0097, 462: 0.0699, 463: 0.0088, 467: 0.0022, 468: 0.0077, 469: 0.0072, 470: 0.0034, 483: 0.0256, 484: 0.0078, 485: 0.0086, 489: 0.0298, 490: 0.0159, 491: 0.0019, 492: 0.0006, 495: 0.0017, 496: 0.0007, 498: 0.004, 500: 0.0006, 510: 0.0064, 511: 0.034, 512: 0.0177, 516: 0.0133, 517: 0.0486, 518: 0.0094, 519: 0.0008, 521: 0.0008, 523: 0.0005, 524: 0.0076, 525: 0.0062, 526: 0.0017, 538: 0.0013, 539: 0.0286, 540: 0.0172, 541: 0.0003, 542: 0.0004, 545: 0.0111, 548: 0.0, 550: 0.0068, 568: 0.0108, 574: 0.0005, 578: 0.001, 580: 0.0065, 583: 0.0005, 596: 0.0005, 597: 0.0004, 604: 0.0012, 605: 0.0005, 620: 0.0013, 626: 0.001, 627: 0.0001, 628: 0.0028, 631: 0.001, 632: 0.0066, 680: 0.0005})"
      ]
     },
     "execution_count": 25,
     "metadata": {},
     "output_type": "execute_result"
    }
   ],
   "source": [
    "rfc_model.featureImportances"
   ]
  },
  {
   "cell_type": "markdown",
   "metadata": {},
   "source": [
    "# Comparing 3 tree methods"
   ]
  },
  {
   "cell_type": "code",
   "execution_count": null,
   "metadata": {},
   "outputs": [],
   "source": []
  },
  {
   "cell_type": "code",
   "execution_count": null,
   "metadata": {},
   "outputs": [],
   "source": []
  },
  {
   "cell_type": "code",
   "execution_count": null,
   "metadata": {},
   "outputs": [],
   "source": []
  },
  {
   "cell_type": "code",
   "execution_count": null,
   "metadata": {},
   "outputs": [],
   "source": []
  },
  {
   "cell_type": "code",
   "execution_count": null,
   "metadata": {},
   "outputs": [],
   "source": []
  },
  {
   "cell_type": "code",
   "execution_count": null,
   "metadata": {},
   "outputs": [],
   "source": []
  }
 ],
 "metadata": {
  "kernelspec": {
   "display_name": "Python 3",
   "language": "python",
   "name": "python3"
  },
  "language_info": {
   "codemirror_mode": {
    "name": "ipython",
    "version": 3
   },
   "file_extension": ".py",
   "mimetype": "text/x-python",
   "name": "python",
   "nbconvert_exporter": "python",
   "pygments_lexer": "ipython3",
   "version": "3.7.1"
  }
 },
 "nbformat": 4,
 "nbformat_minor": 2
}
